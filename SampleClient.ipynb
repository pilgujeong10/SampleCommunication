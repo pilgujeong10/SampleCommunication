{
 "cells": [
  {
   "cell_type": "code",
   "execution_count": 11,
   "metadata": {},
   "outputs": [],
   "source": [
    "import socket\n",
    "import threading\n",
    "import time"
   ]
  },
  {
   "cell_type": "code",
   "execution_count": 12,
   "metadata": {},
   "outputs": [],
   "source": [
    "HOST = '127.0.0.1' #Servers Host\n",
    "PORT = 8888"
   ]
  },
  {
   "cell_type": "code",
   "execution_count": 13,
   "metadata": {},
   "outputs": [],
   "source": [
    "def process_data_from_server(x):\n",
    "    x1,y1= x.split(\",\")\n",
    "    return x1,y1"
   ]
  },
  {
   "cell_type": "code",
   "execution_count": 14,
   "metadata": {},
   "outputs": [],
   "source": [
    "def my_client():\n",
    "    threading.Timer(11, my_client).start()\n",
    "    \n",
    "    with socket.socket(socket.AF_INET, socket.SOCK_STREAM) as s:\n",
    "        s.connect((HOST, PORT))\n",
    "        \n",
    "        my= input(\"Enter command \") #Check Server :Data\n",
    " \n",
    "        my_inp = my.encode('utf-8')\n",
    "        \n",
    "        s.sendall(my_inp)\n",
    "        \n",
    "        data= s.recv(1024).decode('utf-8')\n",
    "        \n",
    "        x_data, y_data= process= process_data_from_server(data)\n",
    "        \n",
    "        print(\"x_data {}\".format(x_data))\n",
    "        print(\"y_data {}\".format(y_data))\n",
    "        s.close()\n",
    "        time.sleep(5)    "
   ]
  },
  {
   "cell_type": "code",
   "execution_count": null,
   "metadata": {},
   "outputs": [],
   "source": [
    "if __name__==\"__main__\":\n",
    "    while 1:\n",
    "        my_client()"
   ]
  },
  {
   "cell_type": "code",
   "execution_count": null,
   "metadata": {},
   "outputs": [],
   "source": []
  }
 ],
 "metadata": {
  "kernelspec": {
   "display_name": "Python 3",
   "language": "python",
   "name": "python3"
  },
  "language_info": {
   "codemirror_mode": {
    "name": "ipython",
    "version": 3
   },
   "file_extension": ".py",
   "mimetype": "text/x-python",
   "name": "python",
   "nbconvert_exporter": "python",
   "pygments_lexer": "ipython3",
   "version": "3.7.4"
  }
 },
 "nbformat": 4,
 "nbformat_minor": 2
}
