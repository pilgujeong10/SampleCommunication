{
 "cells": [
  {
   "cell_type": "code",
   "execution_count": 1,
   "metadata": {},
   "outputs": [],
   "source": [
    "import socket\n",
    "import numpy as np\n",
    "import encodings"
   ]
  },
  {
   "cell_type": "code",
   "execution_count": 2,
   "metadata": {},
   "outputs": [],
   "source": [
    "HOST = '127.0.0.1' #localhost\n",
    "PORT = 4545"
   ]
  },
  {
   "cell_type": "code",
   "execution_count": 3,
   "metadata": {},
   "outputs": [],
   "source": [
    "def random_data():\n",
    "    x1 = np.random.randint(0,55,None)\n",
    "    y1 = np.random.randint(0,45,None)\n",
    "    my_sensor =\"{},{}\".format(x1,y1)\n",
    "    return my_sensor"
   ]
  },
  {
   "cell_type": "code",
   "execution_count": 5,
   "metadata": {},
   "outputs": [],
   "source": [
    "def my_server():\n",
    "    with socket.socket (socket.AF_INET, socket.SOCK_STREAM) as s:\n",
    "        print (\"Server Started waiting for client to connect \")\n",
    "        s.bind((HOST,PORT))\n",
    "        s.listen(5)\n",
    "        conn, addr= s.accept()\n",
    "        \n",
    "        with conn:\n",
    "            print('Connected by', addr)\n",
    "            while True:\n",
    "                \n",
    "                data = conn.recv(1024).decode('utf-8')\n",
    "                \n",
    "                if str(data)==\"Data\":\n",
    "                    \n",
    "                    print(\"Ok Sending data \")\n",
    "                    \n",
    "                    my_data = random_data()\n",
    "                    \n",
    "                    x_encoded_data = my_data.encode('utf-8')\n",
    "                    \n",
    "                    conn.sendall(x_encoded_data)\n",
    "                    \n",
    "                elif str(data) == \"Quit\":\n",
    "                    print(\"Shutting down server \")\n",
    "                    break\n",
    "                    \n",
    "                if not data:\n",
    "                    break\n",
    "                \n",
    "                else:\n",
    "                    pass                "
   ]
  },
  {
   "cell_type": "code",
   "execution_count": null,
   "metadata": {},
   "outputs": [],
   "source": [
    "if __name__ '__main__':\n",
    "    while 1:\n",
    "        my_server()"
   ]
  }
 ],
 "metadata": {
  "kernelspec": {
   "display_name": "Python 3",
   "language": "python",
   "name": "python3"
  },
  "language_info": {
   "codemirror_mode": {
    "name": "ipython",
    "version": 3
   },
   "file_extension": ".py",
   "mimetype": "text/x-python",
   "name": "python",
   "nbconvert_exporter": "python",
   "pygments_lexer": "ipython3",
   "version": "3.7.4"
  }
 },
 "nbformat": 4,
 "nbformat_minor": 2
}
